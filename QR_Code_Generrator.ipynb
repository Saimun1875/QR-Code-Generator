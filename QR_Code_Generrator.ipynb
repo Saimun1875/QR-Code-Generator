{
  "nbformat": 4,
  "nbformat_minor": 0,
  "metadata": {
    "colab": {
      "provenance": []
    },
    "kernelspec": {
      "name": "python3",
      "display_name": "Python 3"
    },
    "language_info": {
      "name": "python"
    }
  },
  "cells": [
    {
      "cell_type": "code",
      "source": [
        "!pip install qrcode"
      ],
      "metadata": {
        "colab": {
          "base_uri": "https://localhost:8080/"
        },
        "id": "QCeiOqOSWnw5",
        "outputId": "77d3f174-1b3b-4842-fae5-732f0a8f2309"
      },
      "execution_count": 7,
      "outputs": [
        {
          "output_type": "stream",
          "name": "stdout",
          "text": [
            "Requirement already satisfied: qrcode in /usr/local/lib/python3.10/dist-packages (7.4.2)\n",
            "Requirement already satisfied: typing-extensions in /usr/local/lib/python3.10/dist-packages (from qrcode) (4.10.0)\n",
            "Requirement already satisfied: pypng in /usr/local/lib/python3.10/dist-packages (from qrcode) (0.20220715.0)\n"
          ]
        }
      ]
    },
    {
      "cell_type": "code",
      "execution_count": 8,
      "metadata": {
        "colab": {
          "base_uri": "https://localhost:8080/"
        },
        "id": "zMAst6MoTs1b",
        "outputId": "fcbe5f6c-b2c8-4ff8-9cc6-52955e53715a"
      },
      "outputs": [
        {
          "output_type": "stream",
          "name": "stdout",
          "text": [
            "QR code saved as wscube_portfolio.png\n"
          ]
        }
      ],
      "source": [
        "import qrcode as qr\n",
        "\n",
        "# Create a QR code for the specified URL\n",
        "url = \"https://sites.google.com/student.cuet.ac.bd/mdsaimunalam/about?authuser=1\"\n",
        "img = qr.make(url)\n",
        "\n",
        "# Save the QR code as an image file\n",
        "img.save(\"wscube_portfolio.png\")\n",
        "\n",
        "# Display a message indicating successful generation\n",
        "print(\"QR code saved as wscube_portfolio.png\")\n"
      ]
    },
    {
      "cell_type": "code",
      "source": [
        "import matplotlib.pyplot as plt\n",
        "import matplotlib.image as mpimg\n",
        "\n",
        "# Specify the path to your image file\n",
        "image_path = \"/content/wscube_portfolio.png\"  # Replace with the actual path\n",
        "\n",
        "# Load the image\n",
        "img = mpimg.imread(image_path)\n",
        "\n",
        "# Display the image\n",
        "plt.imshow(img)\n",
        "plt.axis(\"off\")  # Hide axes\n",
        "plt.show()\n"
      ],
      "metadata": {
        "colab": {
          "base_uri": "https://localhost:8080/",
          "height": 406
        },
        "id": "fpQRpefeX2O3",
        "outputId": "d434c0a3-1f32-42bd-c958-ef6423220b52"
      },
      "execution_count": 9,
      "outputs": [
        {
          "output_type": "display_data",
          "data": {
            "text/plain": [
              "<Figure size 640x480 with 1 Axes>"
            ],
            "image/png": "[encoded data removed]"
          },
          "metadata": {}
        }
      ]
    }
  ]
}